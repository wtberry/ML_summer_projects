{
 "cells": [
  {
   "cell_type": "markdown",
   "metadata": {},
   "source": [
    "# NLP Part 11\n",
    "\n",
    "## Text Classification - preprocessing\n",
    "\n",
    "- Youtube Tutorial 11 [Text Classification - Natural Language Processing With Python and NLTK p.11](https://www.youtube.com/watch?v=zi16nl82AMA&index=11&list=PLQVvvaa0QuDf2JswnfiGkliBInZnIC4HL)\n",
    "- Text Classification: Here, we'll go over sentiment analysis of movie review, either positive or negative, using Naive Bayers"
   ]
  },
  {
   "cell_type": "code",
   "execution_count": 13,
   "metadata": {},
   "outputs": [
    {
     "name": "stderr",
     "output_type": "stream",
     "text": [
      "IOPub data rate exceeded.\n",
      "The notebook server will temporarily stop sending output\n",
      "to the client in order to avoid crashing it.\n",
      "To change this limit, set the config variable\n",
      "`--NotebookApp.iopub_data_rate_limit`.\n",
      "\n",
      "Current values:\n",
      "NotebookApp.iopub_data_rate_limit=1000000.0 (bytes/sec)\n",
      "NotebookApp.rate_limit_window=3.0 (secs)\n",
      "\n"
     ]
    },
    {
     "name": "stdout",
     "output_type": "stream",
     "text": [
      "[(',', 77717), ('the', 76529), ('.', 65876), ('a', 38106), ('and', 35576), ('of', 34123), ('to', 31937), (\"'\", 30585), ('is', 25195), ('in', 21822), ('s', 18513), ('\"', 17612), ('it', 16107), ('that', 15924), ('-', 15595)]\n",
      "253\n"
     ]
    }
   ],
   "source": [
    "import random\n",
    "import nltk\n",
    "from nltk.corpus import movie_reviews\n",
    "\n",
    "documents = [(list(movie_reviews.words(fieldid)), category)\n",
    "            for category in movie_reviews.categories()\n",
    "            for fieldid in movie_reviews.fileids(category)]\n",
    "# category includes +/-\n",
    "# fieldid is the id number for the list of reviews\n",
    "print('reviews: \\n', documents)\n",
    "\n",
    "## This creates a list of tuples, which contains\n",
    "    # list of words in the review\n",
    "    # category tag, 'neg' or 'pos'\n",
    "    \n",
    "# Then we shuffle the dataset\n",
    "random.shuffle(documents)\n",
    "\n",
    "# get all the words appear in the reviews\n",
    "all_word = []\n",
    "for word in movie_reviews.words():\n",
    "    all_word.append(word.lower()) # append after lowering all letters\n",
    "    \n",
    "# creating words frequency distribution\n",
    "all_words = nltk.FreqDist(all_word)  \n",
    "\n",
    "# print out the most common 15 words\n",
    "print(all_words.most_common(15))\n",
    "\n",
    "# print out how many times a word 'stupid' appeared\n",
    "print(all_words['stupid'])\n"
   ]
  }
 ],
 "metadata": {
  "kernelspec": {
   "display_name": "Python 3",
   "language": "python",
   "name": "python3"
  },
  "language_info": {
   "codemirror_mode": {
    "name": "ipython",
    "version": 3
   },
   "file_extension": ".py",
   "mimetype": "text/x-python",
   "name": "python",
   "nbconvert_exporter": "python",
   "pygments_lexer": "ipython3",
   "version": "3.6.4"
  }
 },
 "nbformat": 4,
 "nbformat_minor": 2
}

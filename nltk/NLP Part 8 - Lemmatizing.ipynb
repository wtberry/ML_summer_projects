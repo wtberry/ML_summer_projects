{
 "cells": [
  {
   "cell_type": "markdown",
   "metadata": {},
   "source": [
    "# NLP Part 8\n",
    "\n",
    "## Lemmatizing\n",
    "\n",
    "- Youtube Tutorial 8 [Lemmatizing - Natural Language Processing With Python and NLTK p.8](https://www.youtube.com/watch?v=uoHVztKY6S4&list=PLQVvvaa0QuDf2JswnfiGkliBInZnIC4HL&index=8)\n",
    "- Lammatizing: kind of like Stemming, but return word; original form of word"
   ]
  },
  {
   "cell_type": "code",
   "execution_count": 9,
   "metadata": {},
   "outputs": [
    {
     "name": "stdout",
     "output_type": "stream",
     "text": [
      "cat\n",
      "dog\n",
      "plane\n",
      "This should return the singular form\n",
      " of the words\n",
      "good\n",
      "cold\n",
      "program\n",
      "drink\n",
      "drunk\n"
     ]
    }
   ],
   "source": [
    "from nltk.stem import WordNetLemmatizer\n",
    "\n",
    "lemmatizer = WordNetLemmatizer()\n",
    "\n",
    "## Examples with nouns\n",
    "print(lemmatizer.lemmatize('cats'))\n",
    "print(lemmatizer.lemmatize('dogs'))\n",
    "print(lemmatizer.lemmatize('planes'))\n",
    "print(\"This should return the singular form\\n of the words\")\n",
    "\n",
    "## Let's try adjuctive\n",
    "print(lemmatizer.lemmatize('better', pos='a'))\n",
    "print(lemmatizer.lemmatize('colder', pos='a'))\n",
    "# pos option specifies the input words' part of speech.\n",
    "# By default it is set to noun\n",
    "\n",
    "## Trying with verb\n",
    "print(lemmatizer.lemmatize('programming', pos='v'))\n",
    "print(lemmatizer.lemmatize('drunk', pos='v'))\n",
    "\n",
    "print(lemmatizer.lemmatize('drunk', pos='a'))"
   ]
  }
 ],
 "metadata": {
  "kernelspec": {
   "display_name": "Python 3",
   "language": "python",
   "name": "python3"
  },
  "language_info": {
   "codemirror_mode": {
    "name": "ipython",
    "version": 3
   },
   "file_extension": ".py",
   "mimetype": "text/x-python",
   "name": "python",
   "nbconvert_exporter": "python",
   "pygments_lexer": "ipython3",
   "version": "3.6.4"
  }
 },
 "nbformat": 4,
 "nbformat_minor": 2
}

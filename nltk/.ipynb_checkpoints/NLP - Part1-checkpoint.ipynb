{
 "cells": [
  {
   "cell_type": "markdown",
   "metadata": {},
   "source": [
    "# Natual Language Processing with NLTK\n",
    "\n",
    "## Part 1, tokenizing words and sentences\n",
    "\n",
    "\n",
    "### Personal notes\n",
    "\n",
    "- Tokenizing: deviding sentences into smaller chunks, into\n",
    "    * words tokenizers\n",
    "    * sentences tokenizers\n",
    "- Laxicon and Corporas\n",
    "    * Laxicon: words and their meaning, like dictionary\n",
    "    * Corpora: Body of texts, such as medical journal, research paper, presidential speech\n",
    "    \n",
    "### Start at https://www.youtube.com/watch?v=FLZvOKSCkxY&list=PLQVvvaa0QuDf2JswnfiGkliBInZnIC4HL \n",
    "\n",
    "#### Importing the library for the first time, and dowloading the databases\n",
    "\n",
    "```python\n",
    "import nltk\n",
    "nltk.download()\n",
    "```"
   ]
  },
  {
   "cell_type": "markdown",
   "metadata": {},
   "source": [
    "### Let's start tokenizing"
   ]
  },
  {
   "cell_type": "code",
   "execution_count": 8,
   "metadata": {},
   "outputs": [
    {
     "name": "stdout",
     "output_type": "stream",
     "text": [
      "sentence: \n",
      " ['Hello, Mr. Smith, how are you doing today?', 'The weather is great, and python is awesome.']\n",
      "word: \n",
      "  ['Hello', ',', 'Mr.', 'Smith', ',', 'how', 'are', 'you', 'doing', 'today', '?', 'The', 'weather', 'is', 'great', ',', 'and', 'python', 'is', 'awesome', '.']\n"
     ]
    }
   ],
   "source": [
    "# importing tokenizer\n",
    "from nltk import sent_tokenize, word_tokenize\n",
    "\n",
    "# creating the sentences\n",
    "sample_text = 'Hello, Mr. Smith, how are you doing today? The weather is great, and python is awesome.'\n",
    "\n",
    "# applying the tokenizer\n",
    "# sentence\n",
    "print('sentence: \\n', sent_tokenize(sample_text))\n",
    "\n",
    "# word\n",
    "print('word: \\n ',word_tokenize(sample_text))\n",
    "\n"
   ]
  },
  {
   "cell_type": "markdown",
   "metadata": {},
   "source": [
    "### Note\n",
    "#### tokenizer recognizes punctuations such as ',' or ';' as a word by default. It's possible to change it."
   ]
  }
 ],
 "metadata": {
  "kernelspec": {
   "display_name": "Python 3",
   "language": "python",
   "name": "python3"
  },
  "language_info": {
   "codemirror_mode": {
    "name": "ipython",
    "version": 3
   },
   "file_extension": ".py",
   "mimetype": "text/x-python",
   "name": "python",
   "nbconvert_exporter": "python",
   "pygments_lexer": "ipython3",
   "version": "3.6.4"
  }
 },
 "nbformat": 4,
 "nbformat_minor": 2
}

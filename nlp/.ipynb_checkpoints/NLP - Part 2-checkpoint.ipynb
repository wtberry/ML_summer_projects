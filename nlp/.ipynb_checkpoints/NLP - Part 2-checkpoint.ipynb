{
 "cells": [
  {
   "cell_type": "markdown",
   "metadata": {},
   "source": [
    "# NLP Part 2\n",
    "\n",
    "## Stop Words\n",
    "- Youtube tutorial [Stop Words - Natural Language Processing With Python and NLTK p.2](https://www.youtube.com/watch?v=w36-U-ccajM&index=2&list=PLQVvvaa0QuDf2JswnfiGkliBInZnIC4HL)\n",
    "\n",
    "> Stop words are the words such as 'a', or 'the', it's there for humans to make sense, but not necessary to \n",
    "understand the meaning of the context."
   ]
  },
  {
   "cell_type": "code",
   "execution_count": 4,
   "metadata": {},
   "outputs": [
    {
     "name": "stdout",
     "output_type": "stream",
     "text": [
      "stop words list: \n",
      " {'will', 'hers', \"you're\", 'of', \"needn't\", 'which', \"shouldn't\", \"don't\", 'than', \"haven't\", 'until', 'here', 'a', 'between', 'by', 'ain', 'have', 'hasn', 'not', 'at', 'themselves', \"couldn't\", 'our', 'doing', 'does', 'he', \"should've\", 'same', 'no', 'ma', 'o', \"wouldn't\", 'but', 'during', 'that', 'should', 'wouldn', 'whom', 'be', \"that'll\", 'the', \"hadn't\", 'after', 'through', 's', 'am', \"you'd\", 'now', 'once', \"didn't\", \"she's\", 'only', \"it's\", 're', \"shan't\", 'd', 't', \"wasn't\", 'were', 'haven', 'each', 'few', 'above', 'their', 'it', 'again', 'your', 'are', 'its', 'having', 'what', 'in', 'where', 'about', 'down', 'most', 'himself', 'i', 'yourself', 'out', 'yours', \"isn't\", 'can', 'off', \"mightn't\", 'over', 'was', 'if', \"doesn't\", 'is', 'y', 'these', 'had', 'how', 'so', 'to', 'there', 'wasn', 'those', 'ourselves', 'do', 'needn', 'couldn', 'for', 'hadn', 'we', 'his', 'before', 'into', 've', 'didn', 'isn', 'weren', 'yourselves', 'all', 'them', 'just', 'this', 'and', 'further', 'being', 'an', 'myself', 'more', 'up', 'against', 'did', 'under', 'her', 'me', 'she', 'you', 'herself', 'itself', \"you'll\", 'very', 'been', 'shan', 'when', 'won', 'mustn', 'll', 'any', 'm', 'own', 'or', 'then', \"weren't\", 'with', 'while', \"won't\", 'don', \"hasn't\", 'below', 'nor', \"mustn't\", 'my', 'aren', 'from', 'other', 'why', 'mightn', \"you've\", 'theirs', 'as', 'ours', 'too', 'because', 'such', 'they', 'some', 'doesn', 'shouldn', 'on', \"aren't\", 'both', 'him', 'who', 'has'}\n",
      "Original sentence tokenized: \n",
      " ['This', 'is', 'an', 'example', 'showing', 'off', 'stop', 'words', 'filteration', '.']\n",
      "Filtered sentence: \n",
      " ['This', 'example', 'showing', 'stop', 'words', 'filteration', '.']\n"
     ]
    }
   ],
   "source": [
    "# importing tokenizer and stopwords list\n",
    "from nltk.corpus import stopwords\n",
    "from nltk.tokenize import word_tokenize\n",
    "\n",
    "example_sentence = 'This is an example showing off stop words filteration.'\n",
    "stop_words = set(stopwords.words('english')) # Picking a language, can be other language as well\n",
    "print('stop words list: \\n', stop_words)\n",
    "\n",
    "# tokenize the original sentence\n",
    "words = word_tokenize(example_sentence)\n",
    "print('Original sentence tokenized: \\n', words)\n",
    "\n",
    "filtered_sentence = []\n",
    "## filtering the sentence to remove the stop words, using for-loops\n",
    "for w in words:\n",
    "    if w not in stop_words:\n",
    "        filtered_sentence.append(w)\n",
    "        \n",
    "print('Filtered sentence: \\n', filtered_sentence)"
   ]
  },
  {
   "cell_type": "code",
   "execution_count": 7,
   "metadata": {},
   "outputs": [
    {
     "name": "stdout",
     "output_type": "stream",
     "text": [
      "Norwegian stop words list: \n",
      " {'fra', 'kom', 'somme', 'di', 'bare', 'til', 'dem', 'honom', 'blei', 'ja', 'då', 'dei', 'det', 'et', 'kven', 'vart', 'og', 'kun', 'at', 'å', 'vi', 'selv', 'eg', 'vore', 'mange', 'da', 'si', 'kvi', 'bli', 'verte', 'dykkar', 'den', 'korso', 'ikke', 'hvilken', 'man', 'no', 'meg', 'sitt', 'med', 'ha', 'hennar', 'deim', 'ved', 'sin', 'hvordan', 'både', 'vort', 'de', 'hvor', 'deg', 'dette', 'hjå', 'ingi', 'meget', 'ut', 'vil', 'eit', 'har', 'ikkje', 'noko', 'deira', 'kunne', 'mot', 'disse', 'slik', 'opp', 'hans', 'i', 'min', 'vår', 'medan', 'nokre', 'inkje', 'over', 'jeg', 'eller', 'so', 'være', 'inn', 'der', 'for', 'um', 'sjøl', 'ditt', 'sine', 'vært', 'nokor', 'sia', 'ho', 'før', 'av', 'så', 'noka', 'eitt', 'seg', 'mitt', 'nå', 'nokon', 'elles', 'uten', 'dere', 'hadde', 'var', 'skulle', 'sånn', 'han', 'blir', 'her', 'korleis', 'som', 'me', 'du', 'siden', 'men', 'mi', 'hva', 'samme', 'kvar', 'somt', 'om', 'hvilke', 'kva', 'mine', 'vors', 'denne', 'ville', 'hvis', 'noe', 'begge', 'mykje', 'ein', 'ned', 'ingen', 'vere', 'kvifor', 'ble', 'deres', 'enn', 'hoss', 'hver', 'en', 'er', 'skal', 'hvorfor', 'upp', 'ett', 'oss', 'mellom', 'båe', 'fordi', 'på', 'blitt', 'hossen', 'også', 'hoe', 'hennes', 'alle', 'henne', 'hvem', 'når', 'inni', 'noen', 'dykk', 'kvarhelst', 'deires', 'etter', 'din', 'hun', 'sidan', 'varte', 'kan'}\n"
     ]
    }
   ],
   "source": [
    "N_stop_words = set(stopwords.words('norwegian'))\n",
    "print('Norwegian stop words list: \\n', N_stop_words)"
   ]
  }
 ],
 "metadata": {
  "kernelspec": {
   "display_name": "Python 3",
   "language": "python",
   "name": "python3"
  },
  "language_info": {
   "codemirror_mode": {
    "name": "ipython",
    "version": 3
   },
   "file_extension": ".py",
   "mimetype": "text/x-python",
   "name": "python",
   "nbconvert_exporter": "python",
   "pygments_lexer": "ipython3",
   "version": "3.6.4"
  }
 },
 "nbformat": 4,
 "nbformat_minor": 2
}

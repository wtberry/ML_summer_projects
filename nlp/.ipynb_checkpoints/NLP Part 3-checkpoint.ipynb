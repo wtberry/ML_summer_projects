{
 "cells": [
  {
   "cell_type": "markdown",
   "metadata": {},
   "source": [
    "# NLP Part 3\n",
    "\n",
    "## Stemming \n",
    "- Youtube Tutorial [Stemming - Natural Language Processing With Python and NLTK p.3](https://www.youtube.com/watch?v=yGKTphqxR9Q&list=PLQVvvaa0QuDf2JswnfiGkliBInZnIC4HL&index=3)\n",
    "\n",
    "\n",
    "### What is stem??\n",
    "#### Stem is a root / dictionary form of a word\n",
    "> e.g. \n",
    "    - take, took, taken\n",
    "    - Ride, riding, ridden\n",
    "\n",
    "- We'll use Porter Stemmer, algorithm from 1971, to stem(change the form back to dictionary form) words"
   ]
  },
  {
   "cell_type": "code",
   "execution_count": 4,
   "metadata": {},
   "outputs": [
    {
     "name": "stdout",
     "output_type": "stream",
     "text": [
      "python python\n",
      "pythoning python\n",
      "Pythoned python\n",
      "pythoner python\n",
      "Pythonistas pythonista\n"
     ]
    }
   ],
   "source": [
    "## Importing tools needed\n",
    "from nltk.stem import PorterStemmer\n",
    "from nltk.tokenize import word_tokenize\n",
    "\n",
    "# creating stemmer\n",
    "ps = PorterStemmer()\n",
    "\n",
    "example_words = ['python', 'pythoning', 'Pythoned', 'pythoner', 'Pythonistas']\n",
    "\n",
    "for w in example_words:\n",
    "    print(w, ps.stem(w))"
   ]
  },
  {
   "cell_type": "markdown",
   "metadata": {},
   "source": [
    "### Let's try on real sentence!"
   ]
  },
  {
   "cell_type": "code",
   "execution_count": 5,
   "metadata": {},
   "outputs": [
    {
     "name": "stdout",
     "output_type": "stream",
     "text": [
      "Stemmed words:  ['hello', ',', 'I', \"'m\", 'code', 'in', 'python', 'and', 'drink', 'some', 'corona', 'when', 'I', \"'m\", 'watch', 'netflix', '.']\n"
     ]
    }
   ],
   "source": [
    "new_text = \"hello, I'm coding in python and drinking some Corona when I'm watching Netflix.\"\n",
    "\n",
    "words = word_tokenize(new_text)\n",
    "\n",
    "stem_list = []\n",
    "for w in words:\n",
    "    stem_list.append(ps.stem(w))\n",
    "    \n",
    "print(\"Stemmed words: \", stem_list)"
   ]
  }
 ],
 "metadata": {
  "kernelspec": {
   "display_name": "Python 3",
   "language": "python",
   "name": "python3"
  },
  "language_info": {
   "codemirror_mode": {
    "name": "ipython",
    "version": 3
   },
   "file_extension": ".py",
   "mimetype": "text/x-python",
   "name": "python",
   "nbconvert_exporter": "python",
   "pygments_lexer": "ipython3",
   "version": "3.6.4"
  }
 },
 "nbformat": 4,
 "nbformat_minor": 2
}

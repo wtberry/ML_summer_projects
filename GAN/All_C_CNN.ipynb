{
 "cells": [
  {
   "cell_type": "markdown",
   "metadata": {},
   "source": [
    "# Convolutional Neural Network using pytorch\n",
    "\n",
    "This will go over my implementation of All-CNN-C model, introduced in paper [Striving For Simplicity: The All Convolutional Net](https://arxiv.org/abs/1412.6806), using pytorch library\n",
    "\n",
    "In usual CNN, 3 types of layers are used\n",
    "- Convolution Layer\n",
    "- Pooling Layer\n",
    "- Fully Connected Layer\n",
    "\n",
    "This paper present All-CNN-C convolutional network, which utilizes \n",
    "- **Convolution with 2 strides** instead of MaxPool\n",
    "- **Global Averaging and softmax** instead of Fully Connected Layer\n",
    "\n",
    "### Architecture \n",
    "\n",
    "- First Conv Layers\n",
    "    * 3 x 3 Conv, ReLU 96, Stride 1\n",
    "    * 3 x 3 Conv, ReLU 96, Stride 1\n",
    "- First Conv Pooling Layer\n",
    "    * 3 x 3 Conv, ReLU 96, stride 2\n",
    "\n",
    "| Layer | Kernel | Stride | Image Size | \n",
    "|-------|--------|--------|\n",
    "|  Conv, ReLU 96 | 3 x 3  | 1 x 1  | 32 x 32 | \n",
    "|  Conv, ReLU 96 | 3 x 3  | 1 x 1  | \n",
    "|  **Conv, ReLU 96** | **3 x 3**  | **2 x 2**  |\n",
    "|  Conv, ReLU 192 | 3 x 3  | 1 x 1  |\n",
    "|  Conv, ReLU 192 | 3 x 3  | 1 x 1  |\n",
    "|  **Conv, ReLU 192** | **3 x 3**  | **2 x 2**  |\n",
    "|  Conv, ReLU 192 | 3 x 3  | 1 x 1  |\n",
    "|  Conv, ReLU 192 | 1 x 1  | 1 x 1  | \n",
    "|  Conv, ReLU 10 | 1 x 1  | 1 x 1  | 6 x 6 |\n",
    "| **Global Average** |  **6 x 6**  | **1 x 1** |\n",
    "|           10 Way Softmax          |\n",
    "\n",
    "\n",
    "- Batch Normalization was applied for each layers, except the first Conv layer\n",
    "\n"
   ]
  }
 ],
 "metadata": {
  "kernelspec": {
   "display_name": "Python 3",
   "language": "python",
   "name": "python3"
  },
  "language_info": {
   "codemirror_mode": {
    "name": "ipython",
    "version": 3
   },
   "file_extension": ".py",
   "mimetype": "text/x-python",
   "name": "python",
   "nbconvert_exporter": "python",
   "pygments_lexer": "ipython3",
   "version": "3.6.4"
  }
 },
 "nbformat": 4,
 "nbformat_minor": 2
}
